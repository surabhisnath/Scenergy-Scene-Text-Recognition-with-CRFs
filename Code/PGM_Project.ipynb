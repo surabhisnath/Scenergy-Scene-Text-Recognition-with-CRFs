{
  "nbformat": 4,
  "nbformat_minor": 0,
  "metadata": {
    "colab": {
      "name": "PGM_Project",
      "provenance": [],
      "collapsed_sections": []
    },
    "kernelspec": {
      "name": "python3",
      "display_name": "Python 3"
    }
  },
  "cells": [
    {
      "cell_type": "code",
      "metadata": {
        "id": "amTedSK2q9dM",
        "colab_type": "code",
        "outputId": "100f095c-e761-4d9f-cd5b-58d4147474c7",
        "colab": {
          "base_uri": "https://localhost:8080/",
          "height": 122
        }
      },
      "source": [
        "from google.colab import drive\n",
        "drive.mount('/drive', force_remount=True)"
      ],
      "execution_count": 2,
      "outputs": [
        {
          "output_type": "stream",
          "text": [
            "Go to this URL in a browser: https://accounts.google.com/o/oauth2/auth?client_id=947318989803-6bn6qk8qdgf4n4g3pfee6491hc0brc4i.apps.googleusercontent.com&redirect_uri=urn%3aietf%3awg%3aoauth%3a2.0%3aoob&response_type=code&scope=email%20https%3a%2f%2fwww.googleapis.com%2fauth%2fdocs.test%20https%3a%2f%2fwww.googleapis.com%2fauth%2fdrive%20https%3a%2f%2fwww.googleapis.com%2fauth%2fdrive.photos.readonly%20https%3a%2f%2fwww.googleapis.com%2fauth%2fpeopleapi.readonly\n",
            "\n",
            "Enter your authorization code:\n",
            "··········\n",
            "Mounted at /drive\n"
          ],
          "name": "stdout"
        }
      ]
    },
    {
      "cell_type": "code",
      "metadata": {
        "id": "C8rC3FiPrLgX",
        "colab_type": "code",
        "outputId": "fa06407b-8f46-40b7-8d8d-e055ddd0dc78",
        "colab": {
          "base_uri": "https://localhost:8080/",
          "height": 34
        }
      },
      "source": [
        "cd \"/drive/My Drive/PGM_Project/\""
      ],
      "execution_count": 2,
      "outputs": [
        {
          "output_type": "stream",
          "text": [
            "/drive/My Drive/PGM_Project\n"
          ],
          "name": "stdout"
        }
      ]
    },
    {
      "cell_type": "code",
      "metadata": {
        "id": "lV0_T9FTXHDB",
        "colab_type": "code",
        "outputId": "f7cfac2d-49ab-42dc-e9db-5c47515ca890",
        "colab": {
          "base_uri": "https://localhost:8080/",
          "height": 190
        }
      },
      "source": [
        "! pip install phonetics"
      ],
      "execution_count": 4,
      "outputs": [
        {
          "output_type": "stream",
          "text": [
            "Collecting phonetics\n",
            "  Downloading https://files.pythonhosted.org/packages/67/a5/d1b6dbcbb05477aa5f0c5e73a7d68c6d23ab098af4461072f00999ed573a/phonetics-1.0.5.tar.gz\n",
            "Building wheels for collected packages: phonetics\n",
            "  Building wheel for phonetics (setup.py) ... \u001b[?25l\u001b[?25hdone\n",
            "  Created wheel for phonetics: filename=phonetics-1.0.5-py2.py3-none-any.whl size=8712 sha256=908d6447ffc785759ac51025bb7eb9b914f92ccc6319c730c3706d3642d33790\n",
            "  Stored in directory: /root/.cache/pip/wheels/ad/ca/b1/e41e662f86b95d185748da378fdc995c1520b0d5628c46a0b7\n",
            "Successfully built phonetics\n",
            "Installing collected packages: phonetics\n",
            "Successfully installed phonetics-1.0.5\n"
          ],
          "name": "stdout"
        }
      ]
    },
    {
      "cell_type": "code",
      "metadata": {
        "id": "qVuzu6FxrhEP",
        "colab_type": "code",
        "colab": {}
      },
      "source": [
        "import numpy as np\n",
        "import json\n",
        "import pandas as pd\n",
        "import os\n",
        "import pickle\n",
        "import ast\n",
        "import phonetics\n",
        "from tqdm import tqdm\n",
        "import string\n",
        "import random\n",
        "import matplotlib.pyplot as plt"
      ],
      "execution_count": 0,
      "outputs": []
    },
    {
      "cell_type": "markdown",
      "metadata": {
        "id": "nf1fbk21JbqO",
        "colab_type": "text"
      },
      "source": [
        "# **CONDITIONAL RANDOM FIELD FOR SCENE TEXT RECOGNITION**"
      ]
    },
    {
      "cell_type": "markdown",
      "metadata": {
        "id": "QUFEiHN3ozSS",
        "colab_type": "text"
      },
      "source": [
        "## **Preprocessing Block**"
      ]
    },
    {
      "cell_type": "code",
      "metadata": {
        "id": "RDB7x8iGo2hE",
        "colab_type": "code",
        "colab": {}
      },
      "source": [
        "def Sort_Tuple(tup):  \n",
        "    return(sorted(tup, key = lambda x: x[1]))\n",
        "    \n",
        "def preprocess_candidates():\n",
        "  \"\"\"\n",
        "  Prunes and Select the most appropriate candidate predictions based on the confidence values\n",
        "  \n",
        "  Returns\n",
        "  -------\n",
        "  list\n",
        "  Pruned candidates, each with an upper limit of \"maxlen\"\n",
        "  \"\"\"\n",
        "  cand = []\n",
        "  maxlen = 3\n",
        "  for c in range(len(candidates_withoutpuncdig)):\n",
        "    copy = candidates_withoutpuncdig[c].copy()\n",
        "    num_wordcand = len(candidates_withoutpuncdig[c])\n",
        "    if num_wordcand > maxlen:\n",
        "      sortedcand = Sort_Tuple(copy)\n",
        "      cand.append(sortedcand[0:maxlen])\n",
        "    else:\n",
        "      cand.append(copy)\n",
        "  return cand"
      ],
      "execution_count": 0,
      "outputs": []
    },
    {
      "cell_type": "markdown",
      "metadata": {
        "id": "zj8mATy0kyXq",
        "colab_type": "text"
      },
      "source": [
        "## **Statistics Block**"
      ]
    },
    {
      "cell_type": "code",
      "metadata": {
        "id": "9NkTInxUHFG2",
        "colab_type": "code",
        "colab": {}
      },
      "source": [
        "def get_numcand_perwordimg():\n",
        "  \"\"\"\n",
        "  Obtain the number of candidates words per word-crop image\n",
        "\n",
        "  Returns\n",
        "  -------\n",
        "  dict\n",
        "  Word image id, with corresponding number of candidate predictions\n",
        "  \"\"\"\n",
        "  numcand = {}\n",
        "  assert len(candidates_withoutpuncdig) == num_words\n",
        "  for i in range(num_words):\n",
        "    numcand[i] = len(candidates_withoutpuncdig[i])\n",
        "  return numcand"
      ],
      "execution_count": 0,
      "outputs": []
    },
    {
      "cell_type": "code",
      "metadata": {
        "id": "Xf8WS6_cLGcv",
        "colab_type": "code",
        "colab": {}
      },
      "source": [
        "def get_numcomb_perimg():\n",
        "  \"\"\"\n",
        "  Obtain the number of candidate combinations to be potential sequences\n",
        "\n",
        "  Returns\n",
        "  -------\n",
        "  list\n",
        "  Contains the number of potential sequences for corresponding image i, at index i\n",
        "  \"\"\"\n",
        "  numcomb = []\n",
        "  for im in range(start, num_imgs, skip):\n",
        "    index = im + 1\n",
        "    if imgfreq[index] == 0:\n",
        "      numcomb.append(0)\n",
        "      continue\n",
        "\n",
        "    tup = imgdict[index]\n",
        "    st = tup[0]\n",
        "    end = tup[1]\n",
        "    prod = 1\n",
        "    for k in range(st, end+1):\n",
        "      prod *= numcand[k]\n",
        "    numcomb.append(prod)\n",
        "  return numcomb"
      ],
      "execution_count": 0,
      "outputs": []
    },
    {
      "cell_type": "code",
      "metadata": {
        "id": "rt08BjGx4o0Q",
        "colab_type": "code",
        "colab": {}
      },
      "source": [
        "def get_truewords():\n",
        "  \"\"\"\n",
        "  Get the ground truth words\n",
        "\n",
        "  Returns\n",
        "  -------\n",
        "  list\n",
        "  Contains the ground truth words\n",
        "  \"\"\"\n",
        "  linestoremove = []\n",
        "  truewords = []\n",
        "  for line in flines:\n",
        "    arr = line.split(\"\\t\")\n",
        "    word = arr[1].rstrip()\n",
        "    truewords.append(word)\n",
        "  return truewords"
      ],
      "execution_count": 0,
      "outputs": []
    },
    {
      "cell_type": "code",
      "metadata": {
        "id": "4_Svxa0m3Z7j",
        "colab_type": "code",
        "colab": {}
      },
      "source": [
        "def create_imgfreq():\n",
        "  \"\"\"\n",
        "  Obtain number of words in a signboard image\n",
        "\n",
        "  Returns\n",
        "  -------\n",
        "  dict\n",
        "  Image number with corresponsing number of words\n",
        "  \"\"\"\n",
        "  imgfreq = {}\n",
        "  for line in flines:\n",
        "    arr = line.split(\"/\")\n",
        "    label = arr[1].split(\"_\")\n",
        "    imgnum = int(label[0])\n",
        "    if imgnum not in imgfreq:\n",
        "      imgfreq[imgnum] = 1\n",
        "    else:\n",
        "      imgfreq[imgnum] += 1\n",
        "  return imgfreq"
      ],
      "execution_count": 0,
      "outputs": []
    },
    {
      "cell_type": "code",
      "metadata": {
        "id": "Zyv0-9uy2YPy",
        "colab_type": "code",
        "colab": {}
      },
      "source": [
        "def create_imgdict(imgfreq):\n",
        "  \"\"\"\n",
        "  Obtain the start and end index of the predictions for an image\n",
        "\n",
        "  Returns\n",
        "  -------\n",
        "  dict\n",
        "  Image number with corresponding number of words, start index and end index of predictions\n",
        "  \"\"\"\n",
        "  imgdict = {}\n",
        "  \n",
        "  for i in range(start, num_imgs, skip):\n",
        "    ind = i + 1\n",
        "    if ind == skip:\n",
        "      imgdict[ind] = (0, imgfreq[ind] - 1, imgfreq[ind])\n",
        "    else:\n",
        "      tup = imgdict[ind - skip]\n",
        "      imgdict[ind] = (tup[1] + 1, tup[1] + 1 + imgfreq[ind] - 1, imgfreq[ind])\n",
        "  return imgdict"
      ],
      "execution_count": 0,
      "outputs": []
    },
    {
      "cell_type": "markdown",
      "metadata": {
        "id": "jpGQlc20k67L",
        "colab_type": "text"
      },
      "source": [
        "## **Algorithm Block**"
      ]
    },
    {
      "cell_type": "code",
      "metadata": {
        "id": "YWmNOvlz1kTE",
        "colab_type": "code",
        "colab": {}
      },
      "source": [
        "def find_comb(arr):\n",
        "  \"\"\"\n",
        "  Find all combinations of candidate predictions\n",
        "\n",
        "  Returns\n",
        "  -------\n",
        "  list\n",
        "  possible sequences for an image \n",
        "  \"\"\"\n",
        "  n = len(arr)\n",
        "  toret = []\n",
        "  indices = [0 for i in range(n)] \n",
        "\n",
        "  while(1):\n",
        "    ar = []\n",
        "    for i in range(n):\n",
        "        ar.append(arr[i][indices[i]])\n",
        "    toret.append(ar)\n",
        "\n",
        "    next = n - 1\n",
        "    while (next >= 0 and (indices[next] + 1 >= len(arr[next]))): \n",
        "        next-=1\n",
        "\n",
        "    if (next < 0):\n",
        "        return toret\n",
        "\n",
        "    indices[next] += 1\n",
        "\n",
        "    for i in range(next + 1, n):\n",
        "        indices[i] = 0"
      ],
      "execution_count": 0,
      "outputs": []
    },
    {
      "cell_type": "code",
      "metadata": {
        "id": "ZSHr6Zn3OQdx",
        "colab_type": "code",
        "colab": {}
      },
      "source": [
        "def find_energy_onlyDL(c):\n",
        "  \"\"\"\n",
        "  Only DL model\n",
        "\n",
        "  Returns\n",
        "  -------\n",
        "  Energy for a sequence by considering only bottom up unigrams terms\n",
        "  \"\"\"\n",
        "  unary_energy = sum(n for _, n in c)\n",
        "  total_energy = lambdaunigram * unary_energy\n",
        "  return total_energy"
      ],
      "execution_count": 0,
      "outputs": []
    },
    {
      "cell_type": "code",
      "metadata": {
        "id": "ISfJqZ1MiXCu",
        "colab_type": "code",
        "colab": {}
      },
      "source": [
        "def find_energy_linear(c):\n",
        "  \"\"\"\n",
        "  Linear CRF\n",
        "\n",
        "  Returns\n",
        "  -------\n",
        "  Energy for a sequence by considering network with only adjacent node edges\n",
        "  \"\"\"\n",
        "  unary_energy = sum(n for _, n in c)\n",
        "  # bigrams = Combination(c)\n",
        "  bigram_energy = 0\n",
        "  for a in range(len(c)):\n",
        "    tup1 = c[a]\n",
        "    ind1 = tup1[0]\n",
        "    if a != len(c) - 1:\n",
        "      tup2 = c[a + 1]\n",
        "      ind2 = tup2[0]\n",
        "      bigramtuple = (ind1, ind2)\n",
        "      try:\n",
        "        bigram_energy += bigramprobs[bigramtuple]\n",
        "      except:\n",
        "        bigram_energy += outofvocab\n",
        "\n",
        "    if a != 0:\n",
        "      tup2 = c[a - 1]\n",
        "      ind2 = tup2[0]\n",
        "      bigramtuple = (ind1, ind2)\n",
        "      try:\n",
        "        bigram_energy += bigramprobs[bigramtuple]\n",
        "      except:\n",
        "        bigram_energy += outofvocab\n",
        "\n",
        "  total_energy = lambdaunigram * unary_energy + lambdabigram * bigram_energy\n",
        "  return total_energy"
      ],
      "execution_count": 0,
      "outputs": []
    },
    {
      "cell_type": "code",
      "metadata": {
        "id": "dx4LU6MGKCg9",
        "colab_type": "code",
        "colab": {}
      },
      "source": [
        "def find_energy_nonlinear(c):\n",
        "  \"\"\"\n",
        "  Nonlinear CRF\n",
        "\n",
        "  Returns\n",
        "  -------\n",
        "  Energy for a sequence by considering fully connected network\n",
        "  \"\"\"\n",
        "  unary_energy = sum(n for _, n in c)\n",
        "  bigram_energy = 0\n",
        "  cind1 = 0\n",
        "  for a in c:\n",
        "    cind2 = 0\n",
        "    for b in c:\n",
        "      if cind1 >= cind2:\n",
        "        cind2 += 1\n",
        "        continue\n",
        "      ind1 = a[0]\n",
        "      ind2 = b[0]\n",
        "      bigramtuple = (ind1, ind2)\n",
        "      try:\n",
        "        bigram_energy += bigramprobs[bigramtuple]\n",
        "      \n",
        "      except:\n",
        "        bigram_energy += outofvocab\n",
        "\n",
        "      cind2 += 1\n",
        "    cind1 += 1\n",
        "  total_energy = lambdaunigram * unary_energy + lambdabigram * bigram_energy\n",
        "  return total_energy"
      ],
      "execution_count": 0,
      "outputs": []
    },
    {
      "cell_type": "code",
      "metadata": {
        "id": "SvGDXmw44-lB",
        "colab_type": "code",
        "colab": {}
      },
      "source": [
        "def find_energy_nonlinear_positionalweighting(c):\n",
        "  \"\"\"\n",
        "  Nonlinear CRF\n",
        "\n",
        "  Returns\n",
        "  -------\n",
        "  Energy for a sequence by considering fully connected network with positional weighting\n",
        "  \"\"\"\n",
        "  unary_energy = sum(n for _, n in c)\n",
        "  bigram_energy = 0\n",
        "  cind1 = 0\n",
        "  for a in c:\n",
        "    cind2 = 0\n",
        "    for b in c:\n",
        "      if cind1 >= cind2:\n",
        "        cind2 += 1\n",
        "        continue\n",
        "      ind1 = a[0]\n",
        "      ind2 = b[0]\n",
        "      bigramtuple = (ind1, ind2)\n",
        "      try:\n",
        "        bigram_energy += 1/(cind2 - cind1) * bigramprobs[bigramtuple]\n",
        "      \n",
        "      except:\n",
        "        bigram_energy += 1/(cind2 - cind1) * outofvocab\n",
        "\n",
        "      cind2 += 1\n",
        "    cind1 += 1\n",
        "  total_energy = lambdaunigram * unary_energy + lambdabigram * bigram_energy\n",
        "  return total_energy"
      ],
      "execution_count": 0,
      "outputs": []
    },
    {
      "cell_type": "code",
      "metadata": {
        "id": "uWDVxqZr5i5J",
        "colab_type": "code",
        "colab": {}
      },
      "source": [
        "def get_sequence(s):\n",
        "  \"\"\"\n",
        "  Covert list of tuples of the form (word, unigram energy) to list of words\n",
        "\n",
        "  Returns\n",
        "  -------\n",
        "  list\n",
        "  converted list of words\n",
        "  \"\"\"\n",
        "  seq = []\n",
        "  for tup in s:\n",
        "    seq.append(tup[0])\n",
        "  return seq"
      ],
      "execution_count": 0,
      "outputs": []
    },
    {
      "cell_type": "code",
      "metadata": {
        "id": "6NKswMql4vR0",
        "colab_type": "code",
        "colab": {}
      },
      "source": [
        "def find_minenergysequence(comb, choice):\n",
        "  \"\"\"\n",
        "  Finds sequence with minimum energy\n",
        "\n",
        "  Returns\n",
        "  -------\n",
        "  list\n",
        "  sequence of candidate words which yielded the lowest energy\n",
        "  \"\"\"\n",
        "  cnt = 0\n",
        "  for c in comb:\n",
        "    if choice == 0:\n",
        "      energy = find_energy_onlyDL(c)\n",
        "    elif choice == 1:\n",
        "      energy = find_energy_linear(c)\n",
        "    elif choice == 2:\n",
        "      energy = find_energy_nonlinear(c)\n",
        "    elif choice == 3:\n",
        "      energy = find_energy_nonlinear_positionalweighting(c)\n",
        "    if cnt == 0:\n",
        "      minenergy = energy\n",
        "      sequence = c\n",
        "      cnt += 1\n",
        "    elif energy < minenergy:\n",
        "      minenergy = energy\n",
        "      sequence = c\n",
        "\n",
        "  ret = get_sequence(sequence)\n",
        "  return ret"
      ],
      "execution_count": 0,
      "outputs": []
    },
    {
      "cell_type": "code",
      "metadata": {
        "id": "uqrQqLuJtfiK",
        "colab_type": "code",
        "colab": {}
      },
      "source": [
        "def find_sequence(img_num, choice):\n",
        "  \"\"\"\n",
        "  Get all combinations of candidate words and return the sequence with minimum energy\n",
        "\n",
        "  Returns\n",
        "  -------\n",
        "  list\n",
        "  sequence of candidate words which yielded the lowest energy\n",
        "  \"\"\"\n",
        "  tup = imgdict[img_num]\n",
        "  start = tup[0]\n",
        "  end = tup[1]\n",
        "  findcomb = candidates_withoutpuncdig[start:end+1]\n",
        "\n",
        "  combinations = find_comb(findcomb)\n",
        "\n",
        "  assert len(combinations) <= upperlim\n",
        "\n",
        "  # if len(combinations) < 20:\n",
        "  #   print(\"Combinations\")\n",
        "  #   for i in combinations:\n",
        "  #     print(i)\n",
        "  #   print(\"END\")\n",
        "  sequence = find_minenergysequence(combinations, choice)\n",
        "  return sequence"
      ],
      "execution_count": 0,
      "outputs": []
    },
    {
      "cell_type": "code",
      "metadata": {
        "id": "m-2zESBv2Fa2",
        "colab_type": "code",
        "colab": {}
      },
      "source": [
        "def get_true_sequence(img_num):\n",
        "  \"\"\"\n",
        "  Obtain the true word sequence for an image\n",
        "\n",
        "  Returns\n",
        "  -------\n",
        "  list\n",
        "  true word sequence for image img_num obtained from ground truth\n",
        "  \"\"\"\n",
        "  tup = imgdict[img_num]\n",
        "  return truewords[tup[0]:tup[1]+1]"
      ],
      "execution_count": 0,
      "outputs": []
    },
    {
      "cell_type": "code",
      "metadata": {
        "id": "tTbuC8zEDVb_",
        "colab_type": "code",
        "colab": {}
      },
      "source": [
        "# https://www.geeksforgeeks.org/edit-distance-dp-5/\n",
        "\n",
        "def edit_dist(str1, str2):\n",
        "  \"\"\"\n",
        "  Calculates edit distance between 2 words\n",
        "\n",
        "  Returns\n",
        "  -------\n",
        "  Edit distance value\n",
        "  \"\"\"\n",
        "  str1 = str1.lower()\n",
        "  str2 = str2.lower()\n",
        "  m = len(str1)\n",
        "  n = len(str2)\n",
        "  dp = [[0 for x in range(n + 1)] for x in range(m + 1)] \n",
        "\n",
        "  for i in range(m + 1): \n",
        "      for j in range(n + 1): \n",
        "\n",
        "          if i == 0: \n",
        "              dp[i][j] = j    \n",
        "\n",
        "          elif j == 0: \n",
        "              dp[i][j] = i     \n",
        "\n",
        "          elif str1[i-1] == str2[j-1]: \n",
        "              dp[i][j] = dp[i-1][j-1] \n",
        "\n",
        "          else: \n",
        "              dp[i][j] = 1 + min(dp[i][j-1],       # Insert \n",
        "                                  dp[i-1][j],      # Remove \n",
        "                                  dp[i-1][j-1])    # Replace \n",
        "\n",
        "  return dp[m][n]"
      ],
      "execution_count": 0,
      "outputs": []
    },
    {
      "cell_type": "code",
      "metadata": {
        "id": "72pvVQr65yUy",
        "colab_type": "code",
        "colab": {}
      },
      "source": [
        "def pun(one, two):\n",
        "  \"\"\"\n",
        "  Obtain edit distance between 2 sequences \n",
        "\n",
        "  Returns\n",
        "  -------\n",
        "  Overall edit distance calculated by summing over individual word edit distances\n",
        "  \"\"\"\n",
        "  assert len(one) == len(two)\n",
        "  length = len(one)\n",
        "  punish = 0\n",
        "  for i in range(length):\n",
        "    dist = edit_dist(one[i], two[i])\n",
        "    punish += dist\n",
        "  return punish"
      ],
      "execution_count": 0,
      "outputs": []
    },
    {
      "cell_type": "code",
      "metadata": {
        "id": "vIPBIcUVu99R",
        "colab_type": "code",
        "colab": {}
      },
      "source": [
        "def normalize_text(text):\n",
        "  \"\"\"\n",
        "  Transforms the text\n",
        "\n",
        "  Returns\n",
        "  -------\n",
        "  string\n",
        "  Transformed text after removing punctuation marks and converting to lowercase\n",
        "  \"\"\"\n",
        "  text = ''.join(filter(lambda x: x in (string.digits + string.ascii_letters), text))\n",
        "  return text.lower()"
      ],
      "execution_count": 0,
      "outputs": []
    },
    {
      "cell_type": "code",
      "metadata": {
        "id": "X2yB4jzNcm9L",
        "colab_type": "code",
        "colab": {}
      },
      "source": [
        "def acc(one, two):\n",
        "  \"\"\"\n",
        "  Obtain number of matching words in predicted and actual sequence\n",
        "\n",
        "  Returns\n",
        "  -------\n",
        "  tuple\n",
        "  number of matching words and number of total words\n",
        "  \"\"\"\n",
        "  assert len(one) == len(two)\n",
        "  length = len(one)\n",
        "  matches = 0\n",
        "  for i in range(length):\n",
        "    o = normalize_text(one[i])\n",
        "    t = normalize_text(two[i])\n",
        "    if o == t:\n",
        "      matches += 1\n",
        "  percent_match = matches/length\n",
        "  return matches, length"
      ],
      "execution_count": 0,
      "outputs": []
    },
    {
      "cell_type": "code",
      "metadata": {
        "id": "08IBB9GJe2HI",
        "colab_type": "code",
        "colab": {}
      },
      "source": [
        "# https://stackabuse.com/phonetic-similarity-of-words-a-vectorized-approach-in-python/\n",
        "# https://github.com/Zack--/phonetics\n",
        "# https://pypi.org/project/phonetics/\n",
        "\n",
        "def levenshtein(seq1, seq2):\n",
        "  \"\"\"\n",
        "  Utility fn for calculating phonetic distance\n",
        "  \"\"\"\n",
        "  size_x = len(seq1) + 1\n",
        "  size_y = len(seq2) + 1\n",
        "  matrix = np.zeros ((size_x, size_y))\n",
        "  for x in range(size_x):\n",
        "      matrix [x, 0] = x\n",
        "  for y in range(size_y):\n",
        "      matrix [0, y] = y\n",
        "\n",
        "  for x in range(1, size_x):\n",
        "      for y in range(1, size_y):\n",
        "          if seq1[x-1] == seq2[y-1]:\n",
        "              matrix [x,y] = min(matrix[x-1, y] + 1, matrix[x-1, y-1], matrix[x, y-1] + 1)\n",
        "          else:\n",
        "              matrix [x,y] = min(matrix[x-1,y] + 1, matrix[x-1,y-1] + 1, matrix[x,y-1] + 1)\n",
        "  return (matrix[size_x - 1, size_y - 1])\n",
        "\n",
        "\n",
        "def phon(one, two):\n",
        "  \"\"\"\n",
        "  Get the phonetic distance between 2 sequences\n",
        "\n",
        "  Returns\n",
        "  -------\n",
        "  float\n",
        "  Value indicating the phonetic dissimilarity between the inputs\n",
        "  \"\"\"\n",
        "  assert len(one) == len(two)\n",
        "  length = len(one)\n",
        "  total = 0.0\n",
        "\n",
        "  indicator = 0\n",
        "\n",
        "  for k in range(length):\n",
        "    word1 = one[k].lower()\n",
        "    word2 = two[k].lower()\n",
        "\n",
        "    weight = {\"soundex\": 0.3, \"metaphone\": 0.5, \"nysiis\": 0.2}\n",
        "\n",
        "    try:\n",
        "\n",
        "      code1 = phonetics.soundex(word1)\n",
        "      code2 = phonetics.soundex(word2)\n",
        "      lev = levenshtein (code1, code2)\n",
        "      currentWeight = weight[\"soundex\"]\n",
        "      subtotal = lev * currentWeight\n",
        "      total += subtotal\n",
        "\n",
        "      code1 = phonetics.nysiis(word1)\n",
        "      code2 = phonetics.nysiis(word2)\n",
        "      lev = levenshtein (code1, code2)\n",
        "      currentWeight = weight[\"nysiis\"]\n",
        "      subtotal = lev * currentWeight\n",
        "      total += subtotal\n",
        "\n",
        "      code1 = phonetics.metaphone(word1)\n",
        "      code2 = phonetics.metaphone(word2)\n",
        "      lev = levenshtein (code1, code2)\n",
        "      currentWeight = weight[\"metaphone\"]\n",
        "      subtotal = lev * currentWeight\n",
        "      total += subtotal\n",
        "    \n",
        "    except:\n",
        "      indicator += 1\n",
        "      continue\n",
        "\n",
        "  if indicator == length:\n",
        "    return None\n",
        "\n",
        "  return total"
      ],
      "execution_count": 0,
      "outputs": []
    },
    {
      "cell_type": "code",
      "metadata": {
        "id": "WpT03qhFzYtz",
        "colab_type": "code",
        "colab": {}
      },
      "source": [
        "def get_perf(img_num, true_sequence, choice):\n",
        "  \"\"\"\n",
        "  Get the performance on the a test image\n",
        "\n",
        "  Returns\n",
        "  -------\n",
        "  tuple\n",
        "  Edit distance, number of word matches and phonetic distance\n",
        "  \"\"\"\n",
        "  pred_sequence = find_sequence(img_num, choice)\n",
        "  assert len(pred_sequence) == imgdict[img_num][2]\n",
        "  # print(true_sequence)\n",
        "  # print(pred_sequence)\n",
        "  editdist = pun(pred_sequence, true_sequence)\n",
        "  wordmatch, tot = acc(pred_sequence, true_sequence)\n",
        "  phoneticdiff = phon(pred_sequence, true_sequence)\n",
        "  return editdist, wordmatch, tot, phoneticdiff"
      ],
      "execution_count": 0,
      "outputs": []
    },
    {
      "cell_type": "code",
      "metadata": {
        "id": "aM-I8xvEEoYG",
        "colab_type": "code",
        "colab": {}
      },
      "source": [
        "train = True"
      ],
      "execution_count": 0,
      "outputs": []
    },
    {
      "cell_type": "code",
      "metadata": {
        "id": "2x8TXWzzm3Yo",
        "colab_type": "code",
        "outputId": "a33ced87-010c-4f83-8633-7e10375f262e",
        "colab": {
          "base_uri": "https://localhost:8080/",
          "height": 68
        }
      },
      "source": [
        "if train == True:\n",
        "  with open('/drive/My Drive/PGM_Project/data/bigram.json') as f:\n",
        "    bigramprobs = json.load(f)\n",
        "    bigramprobs = bigramprobs.upper()\n",
        "    curly = bigramprobs.index('{')\n",
        "    bigramprobs = bigramprobs[curly:-1]\n",
        "    bigramprobs = ast.literal_eval(bigramprobs)\n",
        "  candidates_temp = pickle.load(open(\"/drive/My Drive/PGM_Project/data/candidates.pkl\", 'rb'))\n",
        "  print(len(candidates_temp))\n",
        "  f = open(\"/drive/My Drive/PGM_Project/data/test_gt_ds.txt\", 'r')\n",
        "  flines = f.readlines()\n",
        "  f.close()\n",
        "  print(len(flines))\n",
        "\n",
        "  assert len(candidates_temp) == len(flines)\n",
        "\n",
        "  # candidates_withoutpuncdig = candidates_temp\n",
        "\n",
        "  candidates_withoutpuncdig = []\n",
        "  fnew = open(\"/drive/My Drive/PGM_Project/data/test_gt_ds_withoutpuncdig.txt\", 'w')\n",
        "\n",
        "  for line in range(len(flines)):\n",
        "    arr = flines[line].split(\"\\t\")\n",
        "    word = arr[1].rstrip()\n",
        "    if word in string.punctuation or word.isdigit():\n",
        "      continue\n",
        "    candidates_withoutpuncdig.append(candidates_temp[line])\n",
        "    fnew.write(flines[line])\n",
        "  fnew.close()\n",
        "\n",
        "  candidates_withoutpuncdig = preprocess_candidates()\n",
        "\n",
        "  f = open(\"/drive/My Drive/PGM_Project/data/test_gt_ds_withoutpuncdig.txt\", 'r')\n",
        "  flines = f.readlines()\n",
        "\n",
        "  print(len(candidates_withoutpuncdig), len(flines))\n",
        "  assert len(candidates_withoutpuncdig) == len(flines)\n",
        "\n",
        "  start = 0\n",
        "  skip = 1\n",
        "\n",
        "else:\n",
        "  with open('/drive/My Drive/PGM_Project/data/test/bigram_allexcepttest.json') as f:\n",
        "    bigramprobs = json.load(f)\n",
        "    bigramprobs = bigramprobs.upper()\n",
        "    curly = bigramprobs.index('{')\n",
        "    bigramprobs = bigramprobs[curly:-1]\n",
        "    bigramprobs = ast.literal_eval(bigramprobs)\n",
        "  candidates_temp = pickle.load(open(\"/drive/My Drive/PGM_Project/data/test/candidates_ontest.pkl\", 'rb'))\n",
        "\n",
        "  f = open(\"/drive/My Drive/PGM_Project/data/test/test_gt_ds.txt\", 'r')\n",
        "  flines = f.readlines()\n",
        "  f.close()\n",
        "\n",
        "  assert len(candidates_temp) == len(flines)\n",
        "\n",
        "  # candidates_withoutpuncdig = candidates_temp\n",
        "\n",
        "  candidates_withoutpuncdig = []\n",
        "  fnew = open(\"/drive/My Drive/PGM_Project/data/test/test_gt_ds_withoutpuncdig.txt\", 'w')\n",
        "\n",
        "  for line in range(len(flines)):\n",
        "    arr = flines[line].split(\"\\t\")\n",
        "    word = arr[1].rstrip()\n",
        "    if word in string.punctuation or word.isdigit():\n",
        "      continue\n",
        "    candidates_withoutpuncdig.append(candidates_temp[line])\n",
        "    fnew.write(flines[line])\n",
        "  fnew.close()\n",
        "\n",
        "  candidates_withoutpuncdig = preprocess_candidates()\n",
        "\n",
        "  f = open(\"/drive/My Drive/PGM_Project/data/test/test_gt_ds_withoutpuncdig.txt\", 'r')\n",
        "  flines = f.readlines()\n",
        "\n",
        "\n",
        "  assert len(candidates_withoutpuncdig) == len(flines)\n",
        "\n",
        "  start = 4\n",
        "  skip = 5"
      ],
      "execution_count": 36,
      "outputs": [
        {
          "output_type": "stream",
          "text": [
            "3000\n",
            "3000\n",
            "2301 2301\n"
          ],
          "name": "stdout"
        }
      ]
    },
    {
      "cell_type": "code",
      "metadata": {
        "id": "xgs2XZwQqplV",
        "colab_type": "code",
        "colab": {}
      },
      "source": [
        "num_imgs = 300\n",
        "num_words = len(flines)\n",
        "truewords = get_truewords()\n",
        "imgfreq = create_imgfreq()\n",
        "imgdict = create_imgdict(imgfreq)\n",
        "numcand = get_numcand_perwordimg()\n",
        "numcomb = get_numcomb_perimg()\n",
        "upperlim = 100000"
      ],
      "execution_count": 0,
      "outputs": []
    },
    {
      "cell_type": "markdown",
      "metadata": {
        "id": "S7vc63dEl80u",
        "colab_type": "text"
      },
      "source": [
        "## **Only Deep Learning Model**"
      ]
    },
    {
      "cell_type": "code",
      "metadata": {
        "id": "TQvBZ57cmR9-",
        "colab_type": "code",
        "outputId": "5d8acea3-7e27-4327-9b46-9da63bc050d5",
        "colab": {
          "base_uri": "https://localhost:8080/",
          "height": 68
        }
      },
      "source": [
        "notcounted = 0\n",
        "wordmatch = 0\n",
        "wordtot = 0\n",
        "continued = 0\n",
        "lambdaunigram = 1\n",
        "lambdabigram = 0\n",
        "avged = 0\n",
        "avgpd = 0\n",
        "cnt = 0\n",
        "\n",
        "for img in range(start, num_imgs, skip):\n",
        "  \n",
        "  # print(\"Image number\", img+1)\n",
        "  # print(\"Number of candidate combinations =\", numcomb[img])\n",
        "\n",
        "  if imgfreq[img + 1] == 0 or numcomb[int(img/skip)] > upperlim:\n",
        "    continued += 1\n",
        "    continue\n",
        "\n",
        "  true_sequence = get_true_sequence(img + 1)\n",
        "  ed, wm, tot, pd = get_perf(img + 1, true_sequence, 0)\n",
        "  wordmatch += wm\n",
        "  wordtot += tot\n",
        "  avged += ed\n",
        "  avgpd += pd\n",
        "  # print(\"Edit distance =\", ed, \"\\t\", \"Words matched =\", wm, \"/\", tot, \"\\t\", \"Phonetic distance =\", pd)\n",
        "  cnt += 1\n",
        "print(\"Word Match Accuracy =\", wordmatch/wordtot*100)\n",
        "print(\"Average Edit Distance =\", avged/cnt)\n",
        "print(\"Average Phonetic Distance =\", avgpd/cnt)"
      ],
      "execution_count": 38,
      "outputs": [
        {
          "output_type": "stream",
          "text": [
            "Word Match Accuracy = 81.88113098672821\n",
            "Average Edit Distance = 5.335740072202166\n",
            "Average Phonetic Distance = 2.692418772563177\n"
          ],
          "name": "stdout"
        }
      ]
    },
    {
      "cell_type": "code",
      "metadata": {
        "id": "rSiElvIX9gCy",
        "colab_type": "code",
        "colab": {}
      },
      "source": [
        "lambdaunigram = 2\n",
        "lambdabigram = 1\n",
        "outofvocab = 2"
      ],
      "execution_count": 0,
      "outputs": []
    },
    {
      "cell_type": "markdown",
      "metadata": {
        "id": "T1fHCNjlk1da",
        "colab_type": "text"
      },
      "source": [
        "## **Linear Conditional Random Field**"
      ]
    },
    {
      "cell_type": "code",
      "metadata": {
        "id": "25JZ76fONbNP",
        "colab_type": "code",
        "outputId": "83e37b65-b9e1-4041-c1d1-e7f93ad74786",
        "colab": {
          "base_uri": "https://localhost:8080/",
          "height": 85
        }
      },
      "source": [
        "notcounted = 0\n",
        "wordmatch = 0\n",
        "wordtot = 0\n",
        "continued = 0\n",
        "avged = 0\n",
        "avgpd = 0\n",
        "cnt = 0\n",
        "\n",
        "for img in range(start, num_imgs, skip):\n",
        "\n",
        "  # print(\"Image number\", img+1)\n",
        "  # print(\"Number of candidate combinations =\", numcomb[img])\n",
        "\n",
        "  if imgfreq[img + 1] == 0 or numcomb[int(img/skip)] > upperlim:\n",
        "    continued += 1\n",
        "    continue\n",
        "\n",
        "  true_sequence = get_true_sequence(img + 1)\n",
        "  ed, wm, tot, pd = get_perf(img + 1, true_sequence, 1)\n",
        "  wordmatch += wm\n",
        "  wordtot += tot\n",
        "  avged += ed\n",
        "  avgpd += pd\n",
        "  # print(\"Edit distance =\", ed, \"\\t\", \"Words matched =\", wm, \"/\", tot, \"\\t\", \"Phonetic distance =\", pd)\n",
        "  cnt += 1\n",
        "print(wordmatch, wordtot)\n",
        "print(\"Word Match Accuracy =\", wordmatch/wordtot*100)\n",
        "print(\"Average Edit Distance =\", avged/cnt)\n",
        "print(\"Average Phonetic Distance =\", avgpd/cnt)"
      ],
      "execution_count": 40,
      "outputs": [
        {
          "output_type": "stream",
          "text": [
            "1457 1733\n",
            "Word Match Accuracy = 84.0738603577611\n",
            "Average Edit Distance = 5.191335740072202\n",
            "Average Phonetic Distance = 2.637184115523466\n"
          ],
          "name": "stdout"
        }
      ]
    },
    {
      "cell_type": "markdown",
      "metadata": {
        "id": "cTdEOF9AJLny",
        "colab_type": "text"
      },
      "source": [
        "# **Non Linear Fully Connected Conditional Random Field**"
      ]
    },
    {
      "cell_type": "code",
      "metadata": {
        "id": "sgi5h1gylPWO",
        "colab_type": "code",
        "outputId": "064a9b17-714c-478f-d6ba-727b5fc0fc41",
        "colab": {
          "base_uri": "https://localhost:8080/",
          "height": 68
        }
      },
      "source": [
        "notcounted = 0\n",
        "wordmatch = 0\n",
        "wordtot = 0\n",
        "continued = 0\n",
        "avged = 0\n",
        "avgpd = 0\n",
        "cnt = 0\n",
        "\n",
        "for img in range(start, num_imgs, skip):\n",
        "\n",
        "  # print(\"Image number\", img+1)\n",
        "  # print(\"Number of candidate combinations =\", numcomb[img])\n",
        "\n",
        "  if imgfreq[img + 1] == 0 or numcomb[int(img/skip)] > upperlim:\n",
        "    continued += 1\n",
        "    continue\n",
        "\n",
        "  true_sequence = get_true_sequence(img + 1)\n",
        "  ed, wm, tot, pd = get_perf(img + 1, true_sequence, 2)\n",
        "  wordmatch += wm\n",
        "  wordtot += tot\n",
        "  avged += ed\n",
        "  avgpd += pd\n",
        "  # print(\"Edit distance =\", ed, \"\\t\", \"Words matched =\", wm, \"/\", tot, \"\\t\", \"Phonetic distance =\", pd)\n",
        "  cnt += 1\n",
        "\n",
        "print(\"Word Match Accuracy =\", wordmatch/wordtot*100)\n",
        "print(\"Average Edit Distance =\", avged/cnt)\n",
        "print(\"Average Phonetic Distance =\", avgpd/cnt)"
      ],
      "execution_count": 41,
      "outputs": [
        {
          "output_type": "stream",
          "text": [
            "Word Match Accuracy = 84.70859780727062\n",
            "Average Edit Distance = 5.144404332129964\n",
            "Average Phonetic Distance = 2.5953068592057758\n"
          ],
          "name": "stdout"
        }
      ]
    },
    {
      "cell_type": "markdown",
      "metadata": {
        "id": "DkULQ8D0KMKK",
        "colab_type": "text"
      },
      "source": [
        "# **Non Linear Fully Connected Conditional Random Field with Positional Weighting**"
      ]
    },
    {
      "cell_type": "code",
      "metadata": {
        "id": "XUS1-Az5KWAc",
        "colab_type": "code",
        "colab": {
          "base_uri": "https://localhost:8080/",
          "height": 68
        },
        "outputId": "215dd1c3-4906-4089-daa1-938e02b3cb6e"
      },
      "source": [
        "notcounted = 0\n",
        "wordmatch = 0\n",
        "wordtot = 0\n",
        "continued = 0\n",
        "avged = 0\n",
        "avgpd = 0\n",
        "cnt = 0\n",
        "\n",
        "for img in range(start, num_imgs, skip):\n",
        "\n",
        "  # print(\"Image number\", img+1)\n",
        "  # print(\"Number of candidate combinations =\", numcomb[img])\n",
        "\n",
        "  if imgfreq[img + 1] == 0 or numcomb[int(img/skip)] > upperlim:\n",
        "    continued += 1\n",
        "    continue\n",
        "\n",
        "  true_sequence = get_true_sequence(img + 1)\n",
        "  ed, wm, tot, pd = get_perf(img + 1, true_sequence, 3)\n",
        "  wordmatch += wm\n",
        "  wordtot += tot\n",
        "  avged += ed\n",
        "  avgpd += pd\n",
        "  # print(\"Edit distance =\", ed, \"\\t\", \"Words matched =\", wm, \"/\", tot, \"\\t\", \"Phonetic distance =\", pd)\n",
        "  cnt += 1\n",
        "\n",
        "print(\"Word Match Accuracy =\", wordmatch/wordtot*100)\n",
        "print(\"Average Edit Distance =\", avged/cnt)\n",
        "print(\"Average Phonetic Distance =\", avgpd/cnt)"
      ],
      "execution_count": 42,
      "outputs": [
        {
          "output_type": "stream",
          "text": [
            "Word Match Accuracy = 84.65089440276977\n",
            "Average Edit Distance = 5.129963898916968\n",
            "Average Phonetic Distance = 2.5949458483754513\n"
          ],
          "name": "stdout"
        }
      ]
    },
    {
      "cell_type": "markdown",
      "metadata": {
        "id": "O9Rg5hqXgWCA",
        "colab_type": "text"
      },
      "source": [
        "## **Plots**"
      ]
    },
    {
      "cell_type": "code",
      "metadata": {
        "id": "oAwCDh7nh1zm",
        "colab_type": "code",
        "colab": {}
      },
      "source": [
        "def bigram_to2darr(bigrams):\n",
        "  \"\"\"\n",
        "  Plots Heatmap of bigrams\n",
        "  \"\"\"\n",
        "  unique = {}\n",
        "  cnt = 0\n",
        "  for tupl in bigrams:\n",
        "    aa = tupl[0]\n",
        "    bb = tupl[1]\n",
        "    if aa not in unique:\n",
        "      unique[aa] = cnt\n",
        "      cnt += 1\n",
        "    if bb not in unique:\n",
        "      unique[bb] = cnt\n",
        "      cnt +=1\n",
        "  \n",
        "  siz = len(unique)\n",
        "  arr_2d = np.ones((siz, siz), dtype=float)\n",
        "  for tupl in bigrams:\n",
        "    indd1 = unique[tupl[0]]\n",
        "    indd2 = unique[tupl[1]]\n",
        "    value = bigrams[tupl]\n",
        "    arr_2d[indd1, indd2] = value\n",
        "  \n",
        "  plt.imshow(arr_2d, cmap='jet')"
      ],
      "execution_count": 0,
      "outputs": []
    },
    {
      "cell_type": "code",
      "metadata": {
        "id": "cH7zsFdgDjrG",
        "colab_type": "code",
        "outputId": "a817419a-211c-49fe-9ca4-22ea475f9c3b",
        "colab": {
          "base_uri": "https://localhost:8080/",
          "height": 269
        }
      },
      "source": [
        "bigram_to2darr(bigramprobs)"
      ],
      "execution_count": 55,
      "outputs": [
        {
          "output_type": "display_data",
          "data": {
            "image/png": "[encoded data removed]",
            "text/plain": [
              "<Figure size 432x288 with 1 Axes>"
            ]
          },
          "metadata": {
            "tags": [],
            "needs_background": "light"
          }
        }
      ]
    },
    {
      "cell_type": "code",
      "metadata": {
        "id": "vqBi5TN1QxfA",
        "colab_type": "code",
        "outputId": "f3f538ba-aa3e-439a-d6cc-e9631f23fab1",
        "colab": {
          "base_uri": "https://localhost:8080/",
          "height": 296
        }
      },
      "source": [
        "# Plots frequency of number of words in an image\n",
        "plt.hist(list(imgfreq.values()))\n",
        "plt.xlabel(\"Number of words in the image\")\n",
        "plt.ylabel(\"Frequency\")"
      ],
      "execution_count": 56,
      "outputs": [
        {
          "output_type": "execute_result",
          "data": {
            "text/plain": [
              "Text(0, 0.5, 'Frequency')"
            ]
          },
          "metadata": {
            "tags": []
          },
          "execution_count": 56
        },
        {
          "output_type": "display_data",
          "data": {
            "image/png": "[encoded data removed]",
            "text/plain": [
              "<Figure size 432x288 with 1 Axes>"
            ]
          },
          "metadata": {
            "tags": [],
            "needs_background": "light"
          }
        }
      ]
    },
    {
      "cell_type": "code",
      "metadata": {
        "id": "2FIej1y1PfOs",
        "colab_type": "code",
        "colab": {}
      },
      "source": [
        ""
      ],
      "execution_count": 0,
      "outputs": []
    }
  ]
}